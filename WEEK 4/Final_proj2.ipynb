{
 "cells": [
  {
   "cell_type": "code",
   "execution_count": 1,
   "metadata": {
    "id": "51NOy8-vZRbC"
   },
   "outputs": [],
   "source": [
    "# Import standard dependencies\n",
    "import cv2\n",
    "import os\n",
    "import random\n",
    "import numpy as np\n",
    "from matplotlib import pyplot as plt"
   ]
  },
  {
   "cell_type": "code",
   "execution_count": 2,
   "metadata": {
    "id": "lIXSyYiiZRbC"
   },
   "outputs": [
    {
     "name": "stdout",
     "output_type": "stream",
     "text": [
      "WARNING:tensorflow:From C:\\Users\\2910p\\AppData\\Roaming\\Python\\Python311\\site-packages\\keras\\src\\losses.py:2976: The name tf.losses.sparse_softmax_cross_entropy is deprecated. Please use tf.compat.v1.losses.sparse_softmax_cross_entropy instead.\n",
      "\n"
     ]
    }
   ],
   "source": [
    "# Import tensorflow dependencies - Functional API\n",
    "from tensorflow.keras.models import Model\n",
    "from tensorflow.keras.layers import Layer, Conv2D, Dense, MaxPooling2D, Input, Flatten\n",
    "import tensorflow as tf"
   ]
  },
  {
   "cell_type": "code",
   "execution_count": 3,
   "metadata": {
    "colab": {
     "base_uri": "https://localhost:8080/"
    },
    "id": "j2Bpxq_bZRbC",
    "outputId": "5352461d-1670-49a2-ac16-b4a82c1c68aa"
   },
   "outputs": [],
   "source": [
    "\n",
    "\n",
    "gpus = tf.config.experimental.list_physical_devices('GPU')\n",
    "for gpu in gpus:\n",
    "    tf.config.experimental.set_memory_growth(gpu, True)"
   ]
  },
  {
   "cell_type": "code",
   "execution_count": 4,
   "metadata": {},
   "outputs": [],
   "source": [
    "def preprocess(file_path):\n",
    "    \n",
    "    # Read in image from file path\n",
    "    byte_img = tf.io.read_file(file_path)\n",
    "    # Load in the image \n",
    "    img = tf.io.decode_jpeg(byte_img)\n",
    "    \n",
    "    # Preprocessing steps - resizing the image to be 100x100x3\n",
    "    img = tf.image.resize(img, (100,100))\n",
    "    # Scale image to be between 0 and 1 \n",
    "    img = img / 255.0\n",
    "\n",
    "    # Return image\n",
    "    return img"
   ]
  },
  {
   "cell_type": "code",
   "execution_count": 5,
   "metadata": {
    "id": "QcV-sZ-tZRbP"
   },
   "outputs": [],
   "source": [
    "def preprocess_twin(input_img, validation_img, label):\n",
    "    return(preprocess(input_img), preprocess(validation_img), label)"
   ]
  },
  {
   "cell_type": "code",
   "execution_count": 6,
   "metadata": {
    "id": "m8MTtcuYZRbR"
   },
   "outputs": [],
   "source": [
    "def make_embedding():\n",
    "    inp = Input(shape=(100,100,3), name='input_image')\n",
    "\n",
    "    # First block\n",
    "    c1 = Conv2D(64, (10,10), activation='relu')(inp)\n",
    "    m1 = MaxPooling2D(64, (2,2), padding='same')(c1)\n",
    "\n",
    "    # Second block\n",
    "    c2 = Conv2D(128, (7,7), activation='relu')(m1)\n",
    "    m2 = MaxPooling2D(64, (2,2), padding='same')(c2)\n",
    "\n",
    "    # Third block\n",
    "    c3 = Conv2D(128, (4,4), activation='relu')(m2)\n",
    "    m3 = MaxPooling2D(64, (2,2), padding='same')(c3)\n",
    "\n",
    "    # Final embedding block\n",
    "    c4 = Conv2D(256, (4,4), activation='relu')(m3)\n",
    "    f1 = Flatten()(c4)\n",
    "    d1 = Dense(4096, activation='sigmoid')(f1)\n",
    "\n",
    "\n",
    "    return Model(inputs=[inp], outputs=[d1], name='embedding')"
   ]
  },
  {
   "cell_type": "code",
   "execution_count": 7,
   "metadata": {
    "id": "djSt73ykZRbR"
   },
   "outputs": [
    {
     "name": "stdout",
     "output_type": "stream",
     "text": [
      "WARNING:tensorflow:From C:\\Users\\2910p\\AppData\\Roaming\\Python\\Python311\\site-packages\\keras\\src\\backend.py:1398: The name tf.executing_eagerly_outside_functions is deprecated. Please use tf.compat.v1.executing_eagerly_outside_functions instead.\n",
      "\n",
      "WARNING:tensorflow:From C:\\Users\\2910p\\AppData\\Roaming\\Python\\Python311\\site-packages\\keras\\src\\layers\\pooling\\max_pooling2d.py:161: The name tf.nn.max_pool is deprecated. Please use tf.nn.max_pool2d instead.\n",
      "\n"
     ]
    }
   ],
   "source": [
    "embedding = make_embedding()"
   ]
  },
  {
   "cell_type": "code",
   "execution_count": 8,
   "metadata": {
    "colab": {
     "base_uri": "https://localhost:8080/"
    },
    "id": "cWdNJ9J2ZRbR",
    "outputId": "76d42628-c6f8-4b54-f772-a3e0047b0a77"
   },
   "outputs": [
    {
     "name": "stdout",
     "output_type": "stream",
     "text": [
      "Model: \"embedding\"\n",
      "_________________________________________________________________\n",
      " Layer (type)                Output Shape              Param #   \n",
      "=================================================================\n",
      " input_image (InputLayer)    [(None, 100, 100, 3)]     0         \n",
      "                                                                 \n",
      " conv2d (Conv2D)             (None, 91, 91, 64)        19264     \n",
      "                                                                 \n",
      " max_pooling2d (MaxPooling2  (None, 46, 46, 64)        0         \n",
      " D)                                                              \n",
      "                                                                 \n",
      " conv2d_1 (Conv2D)           (None, 40, 40, 128)       401536    \n",
      "                                                                 \n",
      " max_pooling2d_1 (MaxPoolin  (None, 20, 20, 128)       0         \n",
      " g2D)                                                            \n",
      "                                                                 \n",
      " conv2d_2 (Conv2D)           (None, 17, 17, 128)       262272    \n",
      "                                                                 \n",
      " max_pooling2d_2 (MaxPoolin  (None, 9, 9, 128)         0         \n",
      " g2D)                                                            \n",
      "                                                                 \n",
      " conv2d_3 (Conv2D)           (None, 6, 6, 256)         524544    \n",
      "                                                                 \n",
      " flatten (Flatten)           (None, 9216)              0         \n",
      "                                                                 \n",
      " dense (Dense)               (None, 4096)              37752832  \n",
      "                                                                 \n",
      "=================================================================\n",
      "Total params: 38960448 (148.62 MB)\n",
      "Trainable params: 38960448 (148.62 MB)\n",
      "Non-trainable params: 0 (0.00 Byte)\n",
      "_________________________________________________________________\n"
     ]
    }
   ],
   "source": [
    "embedding.summary()"
   ]
  },
  {
   "cell_type": "code",
   "execution_count": 9,
   "metadata": {
    "id": "Z9C1TphxZRbR"
   },
   "outputs": [],
   "source": [
    "# Siamese L1 Distance class\n",
    "class L1Dist(Layer):\n",
    "\n",
    "    # Init method - inheritance\n",
    "    def __init__(self, **kwargs):\n",
    "        super().__init__()\n",
    "\n",
    "    # Magic happens here - similarity calculation\n",
    "    def call(self, input_embedding, validation_embedding):\n",
    "        return tf.math.abs(input_embedding - validation_embedding)"
   ]
  },
  {
   "cell_type": "code",
   "execution_count": 10,
   "metadata": {
    "id": "0fi_damqZRbV"
   },
   "outputs": [],
   "source": [
    "# Import metric calculations\n",
    "from tensorflow.keras.metrics import Precision, Recall"
   ]
  },
  {
   "cell_type": "code",
   "execution_count": 11,
   "metadata": {
    "colab": {
     "base_uri": "https://localhost:8080/"
    },
    "id": "ViPKCQ8sZRbW",
    "outputId": "764e3cae-54b0-47a4-dd99-cb7e77b97d7d"
   },
   "outputs": [
    {
     "name": "stdout",
     "output_type": "stream",
     "text": [
      "WARNING:tensorflow:No training configuration found in the save file, so the model was *not* compiled. Compile it manually.\n"
     ]
    }
   ],
   "source": [
    "# Reload model\n",
    "siamese_model = tf.keras.models.load_model(r\"C:\\Users\\2910p\\Desktop\\DESKTOP\\LSML\\siamesemodelv2.h5\",\n",
    "                                   custom_objects={'L1Dist':L1Dist, 'BinaryCrossentropy':tf.losses.BinaryCrossentropy})"
   ]
  },
  {
   "cell_type": "code",
   "execution_count": 12,
   "metadata": {
    "colab": {
     "base_uri": "https://localhost:8080/"
    },
    "id": "Pggz4_dCZRbW",
    "outputId": "eccc471f-7174-4804-c2a4-da89e1c81fcd"
   },
   "outputs": [
    {
     "name": "stdout",
     "output_type": "stream",
     "text": [
      "C:\\Users\\2910p\\Desktop\\DESKTOP\\LSML\\application\\verification\\0b607907-4f83-11ef-8458-346f24c8a482 - Copy.jpg\n",
      "C:\\Users\\2910p\\Desktop\\DESKTOP\\LSML\\application\\verification\\0b607907-4f83-11ef-8458-346f24c8a482.jpg\n",
      "C:\\Users\\2910p\\Desktop\\DESKTOP\\LSML\\application\\verification\\0b84e95b-4f83-11ef-88e2-346f24c8a482 - Copy.jpg\n",
      "C:\\Users\\2910p\\Desktop\\DESKTOP\\LSML\\application\\verification\\0b84e95b-4f83-11ef-88e2-346f24c8a482.jpg\n",
      "C:\\Users\\2910p\\Desktop\\DESKTOP\\LSML\\application\\verification\\0b9f12de-4f83-11ef-a1a0-346f24c8a482 - Copy.jpg\n",
      "C:\\Users\\2910p\\Desktop\\DESKTOP\\LSML\\application\\verification\\0b9f12de-4f83-11ef-a1a0-346f24c8a482.jpg\n",
      "C:\\Users\\2910p\\Desktop\\DESKTOP\\LSML\\application\\verification\\0be00e3d-4f83-11ef-a4d7-346f24c8a482 - Copy.jpg\n",
      "C:\\Users\\2910p\\Desktop\\DESKTOP\\LSML\\application\\verification\\0be00e3d-4f83-11ef-a4d7-346f24c8a482.jpg\n",
      "C:\\Users\\2910p\\Desktop\\DESKTOP\\LSML\\application\\verification\\0be7baec-4f83-11ef-b486-346f24c8a482 - Copy.jpg\n",
      "C:\\Users\\2910p\\Desktop\\DESKTOP\\LSML\\application\\verification\\0be7baec-4f83-11ef-b486-346f24c8a482.jpg\n",
      "C:\\Users\\2910p\\Desktop\\DESKTOP\\LSML\\application\\verification\\0bed378c-4f83-11ef-a5ce-346f24c8a482 - Copy.jpg\n",
      "C:\\Users\\2910p\\Desktop\\DESKTOP\\LSML\\application\\verification\\0bed378c-4f83-11ef-a5ce-346f24c8a482.jpg\n",
      "C:\\Users\\2910p\\Desktop\\DESKTOP\\LSML\\application\\verification\\0c789671-4f83-11ef-971d-346f24c8a482 - Copy.jpg\n",
      "C:\\Users\\2910p\\Desktop\\DESKTOP\\LSML\\application\\verification\\0c789671-4f83-11ef-971d-346f24c8a482.jpg\n",
      "C:\\Users\\2910p\\Desktop\\DESKTOP\\LSML\\application\\verification\\0c8f4ee4-4f83-11ef-81bd-346f24c8a482 - Copy.jpg\n",
      "C:\\Users\\2910p\\Desktop\\DESKTOP\\LSML\\application\\verification\\0c8f4ee4-4f83-11ef-81bd-346f24c8a482.jpg\n",
      "C:\\Users\\2910p\\Desktop\\DESKTOP\\LSML\\application\\verification\\0c9e7247-4f83-11ef-aeee-346f24c8a482 - Copy.jpg\n",
      "C:\\Users\\2910p\\Desktop\\DESKTOP\\LSML\\application\\verification\\0c9e7247-4f83-11ef-aeee-346f24c8a482.jpg\n",
      "C:\\Users\\2910p\\Desktop\\DESKTOP\\LSML\\application\\verification\\0ca5cf5a-4f83-11ef-9d0c-346f24c8a482 - Copy.jpg\n",
      "C:\\Users\\2910p\\Desktop\\DESKTOP\\LSML\\application\\verification\\0ca5cf5a-4f83-11ef-9d0c-346f24c8a482.jpg\n",
      "C:\\Users\\2910p\\Desktop\\DESKTOP\\LSML\\application\\verification\\0cc1b7cf-4f83-11ef-a1a2-346f24c8a482 - Copy.jpg\n",
      "C:\\Users\\2910p\\Desktop\\DESKTOP\\LSML\\application\\verification\\0cc1b7cf-4f83-11ef-a1a2-346f24c8a482.jpg\n",
      "C:\\Users\\2910p\\Desktop\\DESKTOP\\LSML\\application\\verification\\0d31c172-4f83-11ef-a153-346f24c8a482 - Copy.jpg\n",
      "C:\\Users\\2910p\\Desktop\\DESKTOP\\LSML\\application\\verification\\0d31c172-4f83-11ef-a153-346f24c8a482.jpg\n",
      "C:\\Users\\2910p\\Desktop\\DESKTOP\\LSML\\application\\verification\\0d395d68-4f83-11ef-a790-346f24c8a482 - Copy.jpg\n",
      "C:\\Users\\2910p\\Desktop\\DESKTOP\\LSML\\application\\verification\\0d395d68-4f83-11ef-a790-346f24c8a482.jpg\n",
      "C:\\Users\\2910p\\Desktop\\DESKTOP\\LSML\\application\\verification\\0d50f4bf-4f83-11ef-9f7b-346f24c8a482 - Copy.jpg\n",
      "C:\\Users\\2910p\\Desktop\\DESKTOP\\LSML\\application\\verification\\0d50f4bf-4f83-11ef-9f7b-346f24c8a482.jpg\n",
      "C:\\Users\\2910p\\Desktop\\DESKTOP\\LSML\\application\\verification\\0d5e3121-4f83-11ef-ab42-346f24c8a482 - Copy.jpg\n",
      "C:\\Users\\2910p\\Desktop\\DESKTOP\\LSML\\application\\verification\\0d5e3121-4f83-11ef-ab42-346f24c8a482.jpg\n",
      "C:\\Users\\2910p\\Desktop\\DESKTOP\\LSML\\application\\verification\\0d7502ef-4f83-11ef-aeec-346f24c8a482 - Copy.jpg\n",
      "C:\\Users\\2910p\\Desktop\\DESKTOP\\LSML\\application\\verification\\0d7502ef-4f83-11ef-aeec-346f24c8a482.jpg\n",
      "C:\\Users\\2910p\\Desktop\\DESKTOP\\LSML\\application\\verification\\0dc092d9-4f83-11ef-94de-346f24c8a482 - Copy.jpg\n",
      "C:\\Users\\2910p\\Desktop\\DESKTOP\\LSML\\application\\verification\\0dc092d9-4f83-11ef-94de-346f24c8a482.jpg\n",
      "C:\\Users\\2910p\\Desktop\\DESKTOP\\LSML\\application\\verification\\0ddbf667-4f83-11ef-8481-346f24c8a482 - Copy.jpg\n",
      "C:\\Users\\2910p\\Desktop\\DESKTOP\\LSML\\application\\verification\\0ddbf667-4f83-11ef-8481-346f24c8a482.jpg\n",
      "C:\\Users\\2910p\\Desktop\\DESKTOP\\LSML\\application\\verification\\0df6557a-4f83-11ef-a695-346f24c8a482 - Copy.jpg\n",
      "C:\\Users\\2910p\\Desktop\\DESKTOP\\LSML\\application\\verification\\0df6557a-4f83-11ef-a695-346f24c8a482.jpg\n",
      "C:\\Users\\2910p\\Desktop\\DESKTOP\\LSML\\application\\verification\\0e01429c-4f83-11ef-952a-346f24c8a482 - Copy.jpg\n",
      "C:\\Users\\2910p\\Desktop\\DESKTOP\\LSML\\application\\verification\\0e01429c-4f83-11ef-952a-346f24c8a482.jpg\n",
      "C:\\Users\\2910p\\Desktop\\DESKTOP\\LSML\\application\\verification\\0ee0fb0f-4f83-11ef-9b98-346f24c8a482 - Copy.jpg\n",
      "C:\\Users\\2910p\\Desktop\\DESKTOP\\LSML\\application\\verification\\0ee0fb0f-4f83-11ef-9b98-346f24c8a482.jpg\n",
      "C:\\Users\\2910p\\Desktop\\DESKTOP\\LSML\\application\\verification\\0f789e74-4f83-11ef-8fbe-346f24c8a482 - Copy.jpg\n",
      "C:\\Users\\2910p\\Desktop\\DESKTOP\\LSML\\application\\verification\\0f789e74-4f83-11ef-8fbe-346f24c8a482.jpg\n",
      "C:\\Users\\2910p\\Desktop\\DESKTOP\\LSML\\application\\verification\\1a67fd11-4f83-11ef-8f78-346f24c8a482 - Copy.jpg\n",
      "C:\\Users\\2910p\\Desktop\\DESKTOP\\LSML\\application\\verification\\1a67fd11-4f83-11ef-8f78-346f24c8a482.jpg\n",
      "C:\\Users\\2910p\\Desktop\\DESKTOP\\LSML\\application\\verification\\1a889f8a-4f83-11ef-ba42-346f24c8a482 - Copy.jpg\n",
      "C:\\Users\\2910p\\Desktop\\DESKTOP\\LSML\\application\\verification\\1a889f8a-4f83-11ef-ba42-346f24c8a482.jpg\n",
      "C:\\Users\\2910p\\Desktop\\DESKTOP\\LSML\\application\\verification\\1b2a1ba7-4f83-11ef-b3ae-346f24c8a482 - Copy.jpg\n",
      "C:\\Users\\2910p\\Desktop\\DESKTOP\\LSML\\application\\verification\\1b2a1ba7-4f83-11ef-b3ae-346f24c8a482.jpg\n",
      "C:\\Users\\2910p\\Desktop\\DESKTOP\\LSML\\application\\verification\\1ee876d6-4f83-11ef-8cc1-346f24c8a482 - Copy.jpg\n",
      "C:\\Users\\2910p\\Desktop\\DESKTOP\\LSML\\application\\verification\\1ee876d6-4f83-11ef-8cc1-346f24c8a482.jpg\n",
      "C:\\Users\\2910p\\Desktop\\DESKTOP\\LSML\\application\\verification\\1f4c1abb-4f83-11ef-a135-346f24c8a482 - Copy.jpg\n",
      "C:\\Users\\2910p\\Desktop\\DESKTOP\\LSML\\application\\verification\\1f4c1abb-4f83-11ef-a135-346f24c8a482.jpg\n"
     ]
    }
   ],
   "source": [
    "for image in os.listdir(r\"C:\\Users\\2910p\\Desktop\\DESKTOP\\LSML\\application\\verification\"):\n",
    "    validation_img = os.path.join(r\"C:\\Users\\2910p\\Desktop\\DESKTOP\\LSML\\application\\verification\", image)\n",
    "    print(validation_img)"
   ]
  },
  {
   "cell_type": "code",
   "execution_count": 13,
   "metadata": {
    "id": "m8j8e97oZRbW"
   },
   "outputs": [],
   "source": [
    "def verify(model, detection_threshold, verification_threshold):\n",
    "    # Build results array\n",
    "    results = []\n",
    "    for image in os.listdir(r\"C:\\Users\\2910p\\Desktop\\DESKTOP\\LSML\\application\\verification\"):\n",
    "        input_img = preprocess(r\"C:\\Users\\2910p\\Desktop\\DESKTOP\\LSML\\application\\input\\input_img.jpg\")\n",
    "        validation_img = preprocess(os.path.join(r\"C:\\Users\\2910p\\Desktop\\DESKTOP\\LSML\\application\\verification\", image))\n",
    "\n",
    "        # Make Predictions\n",
    "        result = model.predict(list(np.expand_dims([input_img, validation_img], axis=1)))\n",
    "        results.append(result)\n",
    "\n",
    "    # Detection Threshold: Metric above which a prediciton is considered positive\n",
    "    detection = np.sum(np.array(results) > detection_threshold)\n",
    "\n",
    "    # Verification Threshold: Proportion of positive predictions / total positive samples\n",
    "    verification = detection / len(os.listdir(r\"C:\\Users\\2910p\\Desktop\\DESKTOP\\LSML\\application\\verification\"))\n",
    "    verified = verification > verification_threshold\n",
    "\n",
    "    return results, verified"
   ]
  },
  {
   "cell_type": "code",
   "execution_count": null,
   "metadata": {
    "id": "Ozl0VzuuZRbX"
   },
   "outputs": [
    {
     "name": "stdout",
     "output_type": "stream",
     "text": [
      "1/1 [==============================] - 0s 62ms/step\n",
      "1/1 [==============================] - 0s 60ms/step\n",
      "1/1 [==============================] - 0s 62ms/step\n",
      "1/1 [==============================] - 0s 59ms/step\n",
      "1/1 [==============================] - 0s 60ms/step\n",
      "1/1 [==============================] - 0s 64ms/step\n",
      "1/1 [==============================] - 0s 61ms/step\n",
      "1/1 [==============================] - 0s 60ms/step\n",
      "1/1 [==============================] - 0s 61ms/step\n",
      "1/1 [==============================] - 0s 65ms/step\n",
      "1/1 [==============================] - 0s 64ms/step\n",
      "1/1 [==============================] - 0s 60ms/step\n",
      "1/1 [==============================] - 0s 63ms/step\n",
      "1/1 [==============================] - 0s 62ms/step\n",
      "1/1 [==============================] - 0s 61ms/step\n",
      "1/1 [==============================] - 0s 62ms/step\n",
      "1/1 [==============================] - 0s 64ms/step\n",
      "1/1 [==============================] - 0s 60ms/step\n",
      "1/1 [==============================] - 0s 62ms/step\n",
      "1/1 [==============================] - 0s 64ms/step\n",
      "1/1 [==============================] - 0s 61ms/step\n",
      "1/1 [==============================] - 0s 57ms/step\n",
      "1/1 [==============================] - 0s 61ms/step\n",
      "1/1 [==============================] - 0s 63ms/step\n",
      "1/1 [==============================] - 0s 62ms/step\n",
      "1/1 [==============================] - 0s 61ms/step\n",
      "1/1 [==============================] - 0s 64ms/step\n",
      "1/1 [==============================] - 0s 62ms/step\n",
      "1/1 [==============================] - 0s 57ms/step\n",
      "1/1 [==============================] - 0s 59ms/step\n",
      "1/1 [==============================] - 0s 60ms/step\n",
      "1/1 [==============================] - 0s 61ms/step\n",
      "1/1 [==============================] - 0s 59ms/step\n",
      "1/1 [==============================] - 0s 62ms/step\n",
      "1/1 [==============================] - 0s 62ms/step\n",
      "1/1 [==============================] - 0s 63ms/step\n",
      "1/1 [==============================] - 0s 61ms/step\n",
      "1/1 [==============================] - 0s 60ms/step\n",
      "1/1 [==============================] - 0s 61ms/step\n",
      "1/1 [==============================] - 0s 63ms/step\n",
      "1/1 [==============================] - 0s 63ms/step\n",
      "1/1 [==============================] - 0s 62ms/step\n",
      "1/1 [==============================] - 0s 60ms/step\n",
      "1/1 [==============================] - 0s 60ms/step\n",
      "1/1 [==============================] - 0s 60ms/step\n",
      "1/1 [==============================] - 0s 61ms/step\n",
      "1/1 [==============================] - 0s 65ms/step\n",
      "1/1 [==============================] - 0s 63ms/step\n",
      "1/1 [==============================] - 0s 63ms/step\n",
      "1/1 [==============================] - 0s 61ms/step\n",
      "1/1 [==============================] - 0s 63ms/step\n",
      "1/1 [==============================] - 0s 61ms/step\n",
      "1/1 [==============================] - 0s 60ms/step\n",
      "1/1 [==============================] - 0s 61ms/step\n",
      "True\n",
      "1/1 [==============================] - 0s 63ms/step\n",
      "1/1 [==============================] - 0s 61ms/step\n",
      "1/1 [==============================] - 0s 62ms/step\n",
      "1/1 [==============================] - 0s 64ms/step\n",
      "1/1 [==============================] - 0s 63ms/step\n",
      "1/1 [==============================] - 0s 61ms/step\n",
      "1/1 [==============================] - 0s 58ms/step\n",
      "1/1 [==============================] - 0s 58ms/step\n",
      "1/1 [==============================] - 0s 61ms/step\n",
      "1/1 [==============================] - 0s 59ms/step\n",
      "1/1 [==============================] - 0s 58ms/step\n",
      "1/1 [==============================] - 0s 62ms/step\n",
      "1/1 [==============================] - 0s 58ms/step\n",
      "1/1 [==============================] - 0s 57ms/step\n",
      "1/1 [==============================] - 0s 59ms/step\n",
      "1/1 [==============================] - 0s 58ms/step\n",
      "1/1 [==============================] - 0s 62ms/step\n",
      "1/1 [==============================] - 0s 55ms/step\n",
      "1/1 [==============================] - 0s 63ms/step\n",
      "1/1 [==============================] - 0s 58ms/step\n",
      "1/1 [==============================] - 0s 57ms/step\n",
      "1/1 [==============================] - 0s 61ms/step\n",
      "1/1 [==============================] - 0s 58ms/step\n",
      "1/1 [==============================] - 0s 60ms/step\n",
      "1/1 [==============================] - 0s 57ms/step\n",
      "1/1 [==============================] - 0s 57ms/step\n",
      "1/1 [==============================] - 0s 62ms/step\n",
      "1/1 [==============================] - 0s 61ms/step\n",
      "1/1 [==============================] - 0s 57ms/step\n",
      "1/1 [==============================] - 0s 56ms/step\n",
      "1/1 [==============================] - 0s 63ms/step\n",
      "1/1 [==============================] - 0s 60ms/step\n",
      "1/1 [==============================] - 0s 54ms/step\n",
      "1/1 [==============================] - 0s 58ms/step\n",
      "1/1 [==============================] - 0s 58ms/step\n",
      "1/1 [==============================] - 0s 59ms/step\n",
      "1/1 [==============================] - 0s 60ms/step\n",
      "1/1 [==============================] - 0s 60ms/step\n",
      "1/1 [==============================] - 0s 58ms/step\n",
      "1/1 [==============================] - 0s 59ms/step\n",
      "1/1 [==============================] - 0s 57ms/step\n",
      "1/1 [==============================] - 0s 59ms/step\n",
      "1/1 [==============================] - 0s 57ms/step\n",
      "1/1 [==============================] - 0s 56ms/step\n",
      "1/1 [==============================] - 0s 57ms/step\n",
      "1/1 [==============================] - 0s 60ms/step\n",
      "1/1 [==============================] - 0s 57ms/step\n",
      "1/1 [==============================] - 0s 61ms/step\n",
      "1/1 [==============================] - 0s 57ms/step\n",
      "1/1 [==============================] - 0s 59ms/step\n",
      "1/1 [==============================] - 0s 55ms/step\n",
      "1/1 [==============================] - 0s 59ms/step\n",
      "1/1 [==============================] - 0s 62ms/step\n",
      "1/1 [==============================] - 0s 57ms/step\n",
      "False\n"
     ]
    }
   ],
   "source": [
    "cap = cv2.VideoCapture(0)\n",
    "while cap.isOpened():\n",
    "    ret, frame = cap.read()\n",
    "    frame = frame[120:120+250,200:200+250, :]\n",
    "\n",
    "    cv2.imshow('Verification', frame)\n",
    "\n",
    "    # Verification trigger\n",
    "    if cv2.waitKey(10) & 0xFF == ord('v'):\n",
    "        # Save input image to application_data/input_image folder\n",
    "#         hsv = cv2.cvtColor(frame, cv2.COLOR_BGR2HSV)\n",
    "#         h, s, v = cv2.split(hsv)\n",
    "\n",
    "#         lim = 255 - 10\n",
    "#         v[v > lim] = 255\n",
    "#         v[v <= lim] -= 10\n",
    "\n",
    "#         final_hsv = cv2.merge((h, s, v))\n",
    "#         img = cv2.cvtColor(final_hsv, cv2.COLOR_HSV2BGR)\n",
    "\n",
    "        cv2.imwrite(r\"C:\\Users\\2910p\\Desktop\\DESKTOP\\LSML\\application\\input\\input_img.jpg\", frame)\n",
    "        # Run verification\n",
    "        results, verified = verify(siamese_model, 0.9, 0.9)\n",
    "        print(verified)\n",
    "\n",
    "    if cv2.waitKey(10) & 0xFF == ord('q'):\n",
    "        break\n",
    "cap.release()\n",
    "cv2.destroyAllWindows()"
   ]
  },
  {
   "cell_type": "code",
   "execution_count": null,
   "metadata": {},
   "outputs": [],
   "source": []
  }
 ],
 "metadata": {
  "accelerator": "TPU",
  "colab": {
   "gpuType": "V28",
   "provenance": []
  },
  "kernelspec": {
   "display_name": "Python 3 (ipykernel)",
   "language": "python",
   "name": "python3"
  },
  "language_info": {
   "codemirror_mode": {
    "name": "ipython",
    "version": 3
   },
   "file_extension": ".py",
   "mimetype": "text/x-python",
   "name": "python",
   "nbconvert_exporter": "python",
   "pygments_lexer": "ipython3",
   "version": "3.11.7"
  }
 },
 "nbformat": 4,
 "nbformat_minor": 4
}
